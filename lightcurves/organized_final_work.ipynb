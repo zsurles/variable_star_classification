{
 "cells": [
  {
   "cell_type": "markdown",
   "metadata": {},
   "source": [
    "### **IMPORTS**"
   ]
  },
  {
   "cell_type": "code",
   "execution_count": 7,
   "metadata": {},
   "outputs": [],
   "source": [
    "import numpy as np\n",
    "import pandas as pd\n",
    "import matplotlib.pyplot as plt\n",
    "import seaborn as sns\n",
    "import string\n",
    "import plotly.graph_objects as go\n",
    "\n",
    "R_J = 0.91  # From Yuan et al. 2013\n",
    "R_K = 0.39"
   ]
  },
  {
   "cell_type": "markdown",
   "metadata": {},
   "source": [
    "### **LOADING IN THE DATA**"
   ]
  },
  {
   "cell_type": "code",
   "execution_count": 8,
   "metadata": {},
   "outputs": [],
   "source": [
    "file = open('distance_color_type_for_all_stars.txt', 'r')\n",
    "file_csv = open('distance_color_type_for_all_stars_csv.csv', 'w')\n",
    "\n",
    "header = [\n",
    "    'ASASSN_id', 'distance', 'distance_low', 'distance_high', 'g_mag', 'Gaia_name', 'G_mag', 'G_mag_err',\n",
    "    'abs_mag_G', 'abs_mag_G_low', 'abs_mag_G_high', 'ext_correct_G', 'ext_correct_G_low', 'ext_correct_G_high',\n",
    "    'BP_RP', 'BP_RP_err', 'BP_RP_0', 'BP_RP_0_err', 'J_mag', 'J_mag_err', 'K_mag', 'K_mag_err',\n",
    "    'abs_mag_J', 'abs_mag_J_low', 'abs_mag_J_high', 'ext_correct_J', 'ext_correct_J_low', 'ext_correct_J_high',\n",
    "    'ext_correct_K', 'ext_correct_K_low', 'ext_correct_K_high', 'FinalType', 'ML_classifier_type',\n",
    "    'visual_classification_type', 'VSX_type', 'VSX_RA', 'VSX_Dec', 'VSX_name'\n",
    "]\n",
    "\n",
    "file_csv.write(','.join(header) + '\\n')\n",
    "\n",
    "lines = file.readlines()\n",
    "for line in lines:\n",
    "    line_split = line.split()\n",
    "    \n",
    "    # Remove the first 'ASASSN' entry\n",
    "    if line_split[0] == 'ASASSN':\n",
    "        line_split = line_split[1:]\n",
    "    \n",
    "    cleaned_data = []\n",
    "    for item in line_split:\n",
    "        if '=' in item:\n",
    "            continue  # Skip items with '='\n",
    "        cleaned_data.append(item)\n",
    "    \n",
    "    # Combine Gaia_name into a single string\n",
    "    gaia_start = 5  # Adjusted index where Gaia_name starts after removing 'ASASSN'\n",
    "    gaia_end = 8    # Adjusted index where Gaia_name ends\n",
    "    gaia_name = ' '.join(cleaned_data[gaia_start:gaia_end])\n",
    "    cleaned_data = cleaned_data[:gaia_start] + [gaia_name] + cleaned_data[gaia_end:]\n",
    "    \n",
    "    # Combine VSX_name into a single string\n",
    "    vsx_name_start = 37  # Adjusted index where VSX_name starts\n",
    "    vsx_name = ' '.join(cleaned_data[vsx_name_start:])\n",
    "    cleaned_data = cleaned_data[:vsx_name_start] + [vsx_name]\n",
    "\n",
    "    all_letters = set(string.ascii_letters)\n",
    "    if any(letter in all_letters for letter in cleaned_data[35]):\n",
    "        continue\n",
    "    \n",
    "    file_csv.write(','.join(cleaned_data) + '\\n')\n",
    "\n",
    "file.close()\n",
    "file_csv.close()"
   ]
  },
  {
   "cell_type": "code",
   "execution_count": 9,
   "metadata": {},
   "outputs": [],
   "source": [
    "color_csv = pd.read_csv('distance_color_type_for_all_stars_csv.csv')"
   ]
  },
  {
   "cell_type": "markdown",
   "metadata": {},
   "source": [
    "### **FILTERING & ERROR CALCULATIONS**"
   ]
  },
  {
   "cell_type": "code",
   "execution_count": 10,
   "metadata": {},
   "outputs": [],
   "source": [
    "clean_final = color_csv[(color_csv[\"distance\"] < 99998) & (color_csv[\"K_mag\"].between(1, 99.998, inclusive='neither'))].copy()\n",
    "    # filtering distances and magnitudes that did not have real values in the original data \n",
    "\n",
    "clean_final[\"J-K\"] = clean_final[\"J_mag\"] - clean_final[\"K_mag\"]\n",
    "    # creating a new column for the J-K color\n",
    "\n",
    "clean_final = clean_final[clean_final[\"J-K\"] > -1]\n",
    "    # filtering J-K colors that are not high enough"
   ]
  },
  {
   "cell_type": "code",
   "execution_count": 11,
   "metadata": {},
   "outputs": [],
   "source": [
    "errors = clean_final[((clean_final[\"distance_high\"] - clean_final[\"distance_low\"]) / clean_final[\"distance\"]) < 0.3].copy()\n",
    "    # filtering out stars that have too high of an error value in the distance. current value is that the error must be lower than 30%"
   ]
  },
  {
   "cell_type": "code",
   "execution_count": 12,
   "metadata": {},
   "outputs": [],
   "source": [
    "# COLOR ERROR PROPOGATION\n",
    "errors['J-K_err'] = np.sqrt(errors['J_mag_err']**2 + errors['K_mag_err']**2)\n",
    "    # when two measurements are subtracted (like J-K), the variance of the result is the sum of the variances, given by the equation sigma_J-K = sqrt(sigma_J^2 + sigma_K^2)\n",
    "\n",
    "\n",
    "# DISTANCE UNCERTAINTY\n",
    "errors['sigma_distance'] = (errors['distance_high'] - errors['distance_low']) / 2\n",
    "errors['sigma_dist_term'] = (5/np.log(10)) * (errors['sigma_distance']/errors['distance'])\n",
    "    # calculating uncertainty in distance modulus due to error in distance\n",
    "    # the distance modulus is given by the equation mu = 5log_10(d) - 5\n",
    "    # its error propagation gives sigma_mu = |d mu / d d| * sigma_d = (5 / ln(10)) * (sigma_d / d)\n",
    "\n",
    "\n",
    "# CALCULATE E(B-V) VALUE FROM EXTINCTION\n",
    "errors['E(B-V)'] = errors['ext_correct_J'] / R_J  # A_J = R_J * E(B-V) => E(B-V) = A_J/R_J\n",
    "    # we have the extinction in the J-band and want to infer the underlying reddening, which is useful for dereddening stars and comparing extinction-corrected magnitudes\n",
    "    # we can use the equation A_J = R_J * E(B-V) -> E(B-V) = (A_J / R_J)\n",
    "\n",
    "\n",
    "# CALCULATE A_J AND E(J-K) FROM E(B-V)\n",
    "errors['A_J'] = R_J * errors['E(B-V)']\n",
    "errors['E(J-K)'] = (R_J - R_K) * errors['E(B-V)']\n",
    "    # very similar to previous step, using E(J-K) = A_J - A_K = (R_J - R_K) * E(B-V)\n",
    "\n",
    "\n",
    "# ABSOLUTE MAGNITUDE VALUES CORRECTED FOR EXTINCTION\n",
    "errors['abs_mag_J'] = (errors['J_mag'] - 5 * np.log10(errors['distance']) + 5 - errors['A_J'])\n",
    "    # M_J = m_J - 5log_10(d) + 5 - A_J\n",
    "\n",
    "errors['abs_mag_J_err'] = np.sqrt(errors['J_mag_err']**2 + errors['sigma_dist_term']**2 + (R_J * 0.1  * errors['E(B-V)'])**2) #assuming 10% error\n",
    "    # sigma_MJ^2 = sigma_mJ^2 + sigma_mu^2 + sigma_AJ^2\n",
    "    # again, ASSUMING 10% ERROR ---- CHECK!!! COULD BE INACCURATE\n",
    "    # if we do have errors on extinction values or E(B–V), we could replace the 0.1 * E(B-V) with the actual uncertainty\n",
    "\n",
    "\n",
    "# QUALITY CUTS\n",
    "filtered = errors[(errors['J-K_err'] < 0.05) & (errors['abs_mag_J_err'] < 0.15) & (errors['E(J-K)'] < 0.1) & (errors['A_J'] < 1.5)]\n",
    "    # attempting to keep \"high-quality\" stars with:\n",
    "        # low color error\n",
    "        # low absolute magnitude error\n",
    "        # low reddening\n",
    "        # low extinction\n",
    "    # these thresholds CAN BE ADJUSTED and SHOULD BE TINKERED AROUND WITH TO FIND THE BEST VALUES"
   ]
  },
  {
   "cell_type": "code",
   "execution_count": 15,
   "metadata": {},
   "outputs": [
    {
     "data": {
      "text/plain": [
       "array(['RRAB', 'RRC', 'EW', 'EB', 'BY', 'EA', 'SRA', 'CONSTANT', 'RR(B)',\n",
       "       'RS', 'L', 'SXPHE', 'SR', 'DSCT', 'GDOR', 'NO', 'DCEP', 'CWA:',\n",
       "       'BY:', 'LPV_MIRA_AGB_C', 'BY+UV', 'GDOR:', 'CEP', 'L:', 'CEPH'],\n",
       "      dtype=object)"
      ]
     },
     "execution_count": 15,
     "metadata": {},
     "output_type": "execute_result"
    }
   ],
   "source": [
    "filtered[\"FinalType\"].unique()"
   ]
  },
  {
   "cell_type": "code",
   "execution_count": 18,
   "metadata": {},
   "outputs": [
    {
     "data": {
      "text/plain": [
       "array(['RRAB', 'RRC', 'EW', 'EB', 'EA', 'RR(B)', 'DSCT'], dtype=object)"
      ]
     },
     "execution_count": 18,
     "metadata": {},
     "output_type": "execute_result"
    }
   ],
   "source": [
    "unwanted_types = [\"BY\", \"SRA\", \"CONSTANT\", \"RS\", \"L\", \"SXPHE\", \"SR\", \"GDOR\", \"NO\", \"DCEP\", \"CWA:\", \"BY:\", \"LPV_MIRA_AGB_C\", \"BY+UV\", \"GDOR:\", \"CEP\", \"L:\", \"CEPH\"]\n",
    "    # creating a list of the type classifications that we do not want included in certain graphs and value calculations\n",
    "wanted_types = filtered[~filtered[\"FinalType\"].isin(unwanted_types)]\n",
    "wanted_types[\"FinalType\"].unique()"
   ]
  },
  {
   "cell_type": "markdown",
   "metadata": {},
   "source": [
    "one more round of filtering should be done to:\n",
    "- define the \"RR region\"\n",
    "- create a list of objects that are classified as RR in FinalType but OUTSIDE the RR region\n",
    "- create a list of objects that are NOT classified as RR in FinalType but INSIDE the RR region\n",
    "\n",
    "additionally, as commented above, various values of previous filtering should be tested to find the most optimal values for filtering"
   ]
  },
  {
   "cell_type": "markdown",
   "metadata": {},
   "source": [
    "### **GRAPHS & FIGURES**"
   ]
  },
  {
   "cell_type": "code",
   "execution_count": null,
   "metadata": {},
   "outputs": [],
   "source": []
  },
  {
   "cell_type": "markdown",
   "metadata": {},
   "source": []
  }
 ],
 "metadata": {
  "kernelspec": {
   "display_name": "base",
   "language": "python",
   "name": "python3"
  },
  "language_info": {
   "codemirror_mode": {
    "name": "ipython",
    "version": 3
   },
   "file_extension": ".py",
   "mimetype": "text/x-python",
   "name": "python",
   "nbconvert_exporter": "python",
   "pygments_lexer": "ipython3",
   "version": "3.11.7"
  }
 },
 "nbformat": 4,
 "nbformat_minor": 2
}
